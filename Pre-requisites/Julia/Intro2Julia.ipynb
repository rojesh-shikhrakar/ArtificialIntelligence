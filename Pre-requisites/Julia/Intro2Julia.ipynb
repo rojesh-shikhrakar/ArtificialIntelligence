{
 "cells": [
  {
   "cell_type": "markdown",
   "metadata": {},
   "source": [
    "# Intro to Julia\n",
    "\n",
    "Julia has was specifically designed with machine learning and data analytics in mind. However python is more general purpose programming language and has a broader community and many matured libraries and frameworks compared to julia but are developed using C/C++. Julia was aimed to resolve this two language problem. Here's what the creators of julia wrote [Why they created julia](https://julialang.org/blog/2012/02/why-we-created-julia/)\n",
    "\n",
    "> We are greedy: we want more. We want a language that's open source, with a liberal license. We want the speed of C with the dynamism of Ruby. We want a language that's homoiconic, with true macros like Lisp, but with obvious, familiar mathematical notation like Matlab. We want something as usable for general programming as Python, as easy for statistics as R, as natural for string processing as Perl, as powerful for linear algebra as Matlab, as good at gluing programs together as the shell. Something that is dirt simple to learn, yet keeps the most serious hackers happy. We want it interactive and we want it compiled. (Did we mention it should be as fast as C?)\n",
    "\n",
    "Hence, for Scientific programming and Machine learning community julia aims to provides best features from different programming languages. Linear algebra is available with built in arrays and standard library, there are libraries for dataframes, data visualization, machine learning algorithms and neural networks."
   ]
  },
  {
   "cell_type": "markdown",
   "metadata": {},
   "source": [
    "## Setup\n",
    "\n",
    "You can directly download and install required Julia version from [Download and Install Julia](https://julialang.org/downloads/) available for Windows, Linux and OSX. However, current recommended approach is to download and install [Juliaup](https://github.com/JuliaLang/juliaup) to manage multiple julia versions in the system.\n",
    "\n",
    "Once installed on your system, there are multiple approaches to code with julia\n",
    "\n",
    "- **Julia REPL** (Read-Evaluate-Print-Loop)\n",
    "  - REPL + Editor (eg: vim) + [Revise](https://timholy.github.io/Revise.jl/stable/): revise allows to changes in packages, source code and even change of git branch switch without needing to restarting the REPL\n",
    "- **Run Julia Script from cmd**: `julia script.jl arg1 arg2...`, these args are available to julia from the global constant `ARGS`\n",
    "- **IDE**: [Julia for VS Code](https://www.julia-vscode.org/) is preferred, previously [Juno IDE](http://junolab.org/) was used which is not under active development.\n",
    "  - Install [Visual Studio Code](https://code.visualstudio.com/download) and Install [vscode:extension/julialang.language-julia](https://marketplace.visualstudio.com/items?itemName=julialang.language-julia)\n",
    "  - Configure the `Path` for julia if not automatically detected\n",
    "- **Jupyter Notebook(Lab) with [IJulia](https://github.com/JuliaLang/IJulia.jl)** for literate programming (i.e. text, links, figures, math and code are juxtaposed together) can be used within VS Code.\n",
    "- **[Weave.jl](https://github.com/JunoLab/Weave.jl)** for scientific report generator/literate programming using Markdown like inputs\n",
    "- **[Pluto](https://github.com/fonsp/Pluto.jl) Notebook** for reactive literate programming\n",
    "\n",
    "Check [Official Julia Documentation](https://docs.julialang.org) learn about Julia in depth.\n",
    "\n",
    "### Using Julia REPL\n",
    "\n",
    "- `julia>` : Julia REPL to interact with Julia Engine\n",
    "- `shell>` : Enter through \";\" for using shell command at REPL\n",
    "  - Alternatively create cmd/Command type/object and run them. ```cmd = `echo hello` ; run(cmd)```\n",
    "- `help>` : Enter through \"?\" for using help, search through documentation\n",
    "- `(ENVNAME) pkg>` Enter through \"]\" for using Package Manager to activate the environment, add and update packages\n",
    "- `(reverse-i-search)` Enter through \"^R\" (Ctrl+R) for using previous commands matching a pattern\n",
    "\n",
    "Other common commands\n",
    "\n",
    "- \"^L\" (Ctrl+L) clear screen\n",
    "- \"^D\" (Ctrl+D) exit REPL or type `exit()`\n",
    "- \"^C\" (Ctrl+C) abort or interrupt current command\n",
    "\n",
    "; at the end of expression prevents REPL output\n",
    "\n",
    "One can access REPL through Julia cell in jupyter notebook as well.\n",
    "\n",
    "To execute a julia script from the REPL we can do so by calling it as `include(\"example.jl\")`"
   ]
  },
  {
   "cell_type": "markdown",
   "metadata": {},
   "source": [
    "### Package Manager [Pkg.jl](https://pkgdocs.julialang.org/)\n",
    "\n",
    "Manages packages for developing, installing and working with package registry and manage the environment.\n",
    "`]` enable PKg REPL, alternatively, we can import Pkg with  `using Pkg` or `import Pkg`\n",
    "\n",
    "- install a package: `]add Distributions`\n",
    "  - To use the package `using Pkg` gets alls the exported functions to julia namespace or just selected function `using Pkg:activate`, or use `import Pkg` will only bring Pkg to namespace, use dot \".\" operator to access the functions inside the module\n",
    "- update a package: `]up Distributions` or just `]up`  to update all packages\n",
    "- remove a package: `]remove Distributions`\n",
    "- clone a package repo locally for development: `]dev Example`\n",
    "- checkout more with :`]?`\n"
   ]
  },
  {
   "cell_type": "code",
   "execution_count": 1,
   "metadata": {},
   "outputs": [
    {
     "name": "stderr",
     "output_type": "stream",
     "text": [
      "\u001b[32m\u001b[1m  Activating\u001b[22m\u001b[39m new project at `C:\\Users\\FM-PC-~1\\AppData\\Local\\Temp\\jl_IvLNVx`\n"
     ]
    },
    {
     "name": "stderr",
     "output_type": "stream",
     "text": [
      "\u001b[32m\u001b[1m  No Changes\u001b[22m\u001b[39m to `C:\\Users\\FM-PC-LT-235\\AppData\\Local\\Temp\\jl_IvLNVx\\Project.toml`\n",
      "\u001b[32m\u001b[1m  No Changes\u001b[22m\u001b[39m to `C:\\Users\\FM-PC-LT-235\\AppData\\Local\\Temp\\jl_IvLNVx\\Manifest.toml`\n"
     ]
    }
   ],
   "source": [
    "# activate the environment\n",
    "import Pkg # Or use ] to activate Package\n",
    "Pkg.activate(\".\")  # activate/creates environment at the string path\n",
    "# Pkg.activate(; temp=true)   # activates a temp env, which will be deleted when julia process is exited\n",
    "Pkg.instantiate()  # downloads all packages declared in Manifest.toml, or resolves from Project.toml"
   ]
  },
  {
   "cell_type": "code",
   "execution_count": null,
   "metadata": {},
   "outputs": [],
   "source": [
    "# Basic Syntax\n"
   ]
  },
  {
   "cell_type": "markdown",
   "metadata": {},
   "source": [
    "## Operators\n",
    "\n",
    "[Operator Precedence and Associativity](https://docs.julialang.org/en/v1/manual/mathematical-operations/#Operator-Precedence-and-Associativity)\n",
    "\n",
    "[Unicode Input](https://docs.julialang.org/en/v1/manual/unicode-input/)"
   ]
  },
  {
   "cell_type": "code",
   "execution_count": 4,
   "metadata": {
    "ExecuteTime": {
     "end_time": "2020-04-16T22:07:18.624000+05:45",
     "start_time": "2020-04-16T16:22:18.615Z"
    },
    "slideshow": {
     "slide_type": "subslide"
    }
   },
   "outputs": [
    {
     "data": {
      "text/plain": [
       "-0.3333333333333333"
      ]
     },
     "metadata": {},
     "output_type": "display_data"
    }
   ],
   "source": [
    "# supress outcome with semi-colon\n",
    "a = -1 + 2^3 * 12 % 3 + 3 ÷ 5  # ÷ is Integer divide. % is remainder\n",
    "\n",
    "3 \\ a  # inverse divide equivalent to 5 / 3 "
   ]
  },
  {
   "cell_type": "code",
   "execution_count": 5,
   "metadata": {},
   "outputs": [
    {
     "data": {
      "text/plain": [
       "0.35666347314188124"
      ]
     },
     "metadata": {},
     "output_type": "display_data"
    }
   ],
   "source": [
    "sin(√(log10(100)/exp(5))*π)  # math functions are directly available with unicode support"
   ]
  },
  {
   "cell_type": "code",
   "execution_count": 6,
   "metadata": {},
   "outputs": [
    {
     "data": {
      "text/plain": [
       "0.0"
      ]
     },
     "metadata": {},
     "output_type": "display_data"
    }
   ],
   "source": [
    "# Logical Operations\n",
    "!false && (3==3) || (1 > 2)  # comparison operators <, ==,  >, ≥, ≤, ≠ (\\ne)\n",
    "\n",
    "NaN * false  + Inf * false   # false act as strong zero, useful for preventing the propagation of NaN values in quantiies that are known to be zero."
   ]
  },
  {
   "cell_type": "code",
   "execution_count": 7,
   "metadata": {},
   "outputs": [
    {
     "data": {
      "text/plain": [
       "(true, false, true, false)"
      ]
     },
     "metadata": {},
     "output_type": "display_data"
    }
   ],
   "source": [
    "a = [1, 2]; b = [1, 2];\n",
    "a==b, a === b, 5 == 5.0, 5 === 5.0  # === compares type first; for mutable object, address is checked; if immutable, value is compared\n",
    "\n",
    "# missing === missing   # useful for comparing missing, missing == missing returns missing"
   ]
  },
  {
   "cell_type": "markdown",
   "metadata": {
    "tags": []
   },
   "source": [
    "## Variables and Literals\n",
    "Literal is a notation for representing a fixed value in source code. Literal can be atomic values like Int, Float, Bool,..., Compound values such as collections like array, dictionary, tuples, range ..., or functions"
   ]
  },
  {
   "cell_type": "code",
   "execution_count": 9,
   "metadata": {
    "ExecuteTime": {
     "end_time": "2020-06-05T20:54:41.838000+05:45",
     "start_time": "2020-06-05T15:09:41.830Z"
    }
   },
   "outputs": [
    {
     "name": "stdout",
     "output_type": "stream",
     "text": [
      "Float64a is of type: Char\n",
      "αβγδ is of type: String\n",
      "1 is of type: Int64"
     ]
    },
    {
     "name": "stdout",
     "output_type": "stream",
     "text": [
      "\n",
      "1.0 is of type: Float64\n",
      "NaN is of type: Float64\n",
      "Inf is of type: Float64\n",
      "true is of type: Bool\n"
     ]
    },
    {
     "data": {
      "text/plain": [
       "Ptr{Int64} @0x00000249f0404ef0"
      ]
     },
     "metadata": {},
     "output_type": "display_data"
    }
   ],
   "source": [
    "# Variables consist of a name, value, values type (only values have type), reference (pointer) to the address\n",
    "# Variable name can be almost any string that starts with a letter and continues with letters (including unicode letters), numbers or a few other characters.\n",
    "\n",
    "σ²₀ = 75.0  # type automatically infered as Float64\n",
    "print(typeof(σ²₀))\n",
    "\n",
    "list =  ['a', \"αβγδ\", 1, 1.0, NaN, Inf, true ]  # list is not a reserved word\n",
    "\n",
    "for i in list\n",
    "  println(i, \" is of type: \",typeof(i))  # finds type of the variable\n",
    "end\n",
    "\n",
    "pointer(a) # pointer through C Interface, native address of an array or string, pointer_from_objref for objects as Ptr"
   ]
  },
  {
   "cell_type": "markdown",
   "metadata": {},
   "source": [
    "Widely observed Community Standards for naming:\n",
    "- type names and module names use CamelCase, eg: SparseArrays\n",
    "- functions are lowercase, without underscore when readable  eg: haskeys, sometimes _ are used as separators\n",
    "- Underscores are also used to indicate a combination of concepts eg: remotecall_fetch \n",
    "- conciseness is valued, but avoid abbreviation (indexin rather than indxin) \n",
    "- \"!\" suffix on a function name, represent mutating functions that changes the first argument inplace, allows to reduce the number of memory allocations\n",
    "\n",
    "https://docs.julialang.org/en/v1/manual/style-guide/index.html"
   ]
  },
  {
   "cell_type": "code",
   "execution_count": 10,
   "metadata": {},
   "outputs": [
    {
     "data": {
      "text/plain": [
       "(false, true, false, true)"
      ]
     },
     "metadata": {},
     "output_type": "display_data"
    }
   ],
   "source": [
    "1.0 isa Float64  # sames as isa(1.0, Float64)\n",
    "75.0::Float64  # also as type assertion, returns the value if of the type else raise typeassert error\n",
    "\n",
    "isletter('❤'), isletter('α'), isascii('α'), isa(1.0, Float64)"
   ]
  },
  {
   "cell_type": "markdown",
   "metadata": {},
   "source": [
    "Julia behaves as a dynamically typed language allowing type to be ignored in  most of the time (duck-typing), but it is important during debugging as Julia is very sensitive to type. Every object has a type, if we don't specify the type it has the type Any. \n",
    "\n",
    "All the types that are instantiated as values are of concrete types. i.e, they have no subtypes. \n",
    "\n",
    "Julia defines a supertype for every type (except the type Any) to group types together into a tree of types. (i.e every type has exactly one direct supertype which allows any to trace any two types back to their lowest common supertype). "
   ]
  },
  {
   "cell_type": "code",
   "execution_count": 11,
   "metadata": {},
   "outputs": [
    {
     "data": {
      "text/plain": [
       "-9223372036854775808"
      ]
     },
     "metadata": {},
     "output_type": "display_data"
    }
   ],
   "source": [
    "# Integer Int, UInt (unsinged) comes in 8, 16, 32, 64 and 128 bits\n",
    "sizeof(Int64) # default is Int64 based on Sys.WORD_SIZE target system\n",
    "\n",
    "# can be writtern as binary(0b), octal(0o), and hexadecimal (0x) format\n",
    "x = 0x1A9f + 0o0127 + 0b101010  # unsigned, sized determined by numbers of values\n",
    "y = -0x4 # using - sign with these formats produces an two's complement of the value\n",
    "\n",
    "typemin(Int32), typemax(Int32)  # range of numbers you can fit in a data type\n",
    "\n",
    "# overflow checking is not automatic\n",
    "x =typemax(Int64) +1  # results in a wraparound behavior from modular arithmetic\n",
    "# for Int8, 16, 32 they are promoted ?"
   ]
  },
  {
   "cell_type": "code",
   "execution_count": 12,
   "metadata": {},
   "outputs": [
    {
     "data": {
      "text/plain": [
       "1.1920929f-7"
      ]
     },
     "metadata": {},
     "output_type": "display_data"
    }
   ],
   "source": [
    "# Float16(half), Float32(single), Float64(double-precision) default\n",
    "x, y = 1. , Float16(1e-5)\n",
    "\n",
    "0.0 == -0.0  # has two zeros positive and negative with different bitstring()\n",
    "\n",
    "# Special Floats, (+/-) Inf16, Inf32, Inf (64bit) and NaN16, NaN32, NaN (64bit) \n",
    "1/Inf == 0.0\n",
    "1/0 == Inf  # 1 ÷ 0 throws DivideError\n",
    "0/0, Inf/Inf, Inf-Inf # returns NaN, cannot compare NaN == NaN will alwasy be false\n",
    "\n",
    "# round-off error (LSb) can lead to issues; it can accumalate over multiple computation\n",
    "0.1 + 0.2 == 0.3  # false use >= or <= instead\n",
    "\n",
    "# the distance between two adjacent representable floats known as machine epsilon (eps)\n",
    "eps(Float32) # not constant, eps(1000.0) --> large and eps(1e-13) --> smaller\n",
    "# can use nextfloat(x), prevfloat(x) \n",
    "\n",
    "# better to round to appropriate representable values\n",
    "# RoundNearest is default roundmode, setrounding(type, roundmode) do...end to change round mode"
   ]
  },
  {
   "cell_type": "code",
   "execution_count": 13,
   "metadata": {},
   "outputs": [
    {
     "data": {
      "text/plain": [
       "BigInt"
      ]
     },
     "metadata": {},
     "output_type": "display_data"
    }
   ],
   "source": [
    "# BigInt, BigFloat for computation with arbitrary precision Arithmetic\n",
    "factorial(BigInt(77))\n",
    "BigFloat(9)^1000\n",
    "typeof(big(1))"
   ]
  },
  {
   "cell_type": "code",
   "execution_count": 14,
   "metadata": {},
   "outputs": [
    {
     "data": {
      "text/plain": [
       "(1.0, 0.3333333333333333333333333333333333333333333333333333333333333333333333333333348, 1.0)"
      ]
     },
     "metadata": {},
     "output_type": "display_data"
    }
   ],
   "source": [
    "5::Int + 5.0  #  Automatic type conversion through promote_type\n",
    "\n",
    "# Type conversion with Capital letter functions \n",
    "\n",
    "Char(Int64('a') + Int64(2.0))     # character, Float to integer # Int64(1.3) --> inexact error, Int64(\"a\") --> Character Conversion not possible\n",
    "trunc(Int64, 3.99999)       # cuts off the fraction part\n",
    "round(Int64, 1.3), floor(Int64, -1.3), ceil(Int64, -1.3)  # specify Int for conversion else \n",
    "\n",
    "Float64(1)  # integer to float\n",
    "\n",
    "Bool(1) & Bool(0)    # Bool(2) or Bool(\"true\") --> InexactError, any number or string doesn't mean true\n",
    "\n",
    "string(true) *  string(32.2) * string(1,true)  # Note small caps, along with concatenation\n",
    "\n",
    "# General method for type convertion: convert(Type, x)\n",
    "convert(Float32, 2)\n",
    "\n",
    "# Strings need to be parsed to Number\n",
    "parse(Int64, \"32\")\n",
    "parse(Float64, \"3.14159\") \n",
    "\n",
    "\n",
    "# Promotion\n",
    "promote(true, BigInt(1)//3, 1.0)"
   ]
  },
  {
   "cell_type": "code",
   "execution_count": 15,
   "metadata": {},
   "outputs": [
    {
     "data": {
      "text/plain": [
       "-1//0"
      ]
     },
     "metadata": {},
     "output_type": "display_data"
    }
   ],
   "source": [
    "# Rational Number represent exact ratios\n",
    "p = 4//-20  # reduced to lowest term such that denominator is non-negative\n",
    "\n",
    "numerator(p), denominator(p), float(p) \n",
    "\n",
    "2//3 == 6//9  # can perform arithmetic operation and comparison directly\n",
    "\n",
    "- 5//0  # infinite rational values are valid but 0//0 or NaN values are not"
   ]
  },
  {
   "cell_type": "code",
   "execution_count": 16,
   "metadata": {},
   "outputs": [
    {
     "ename": "UndefVarError",
     "evalue": "UndefVarError: `con` not defined",
     "output_type": "error",
     "traceback": [
      "UndefVarError: `con` not defined\n",
      "\n",
      "Stacktrace:\n",
      " [1] top-level scope\n",
      "   @ d:\\Learning\\SciComp.jl\\Intro2Julia\\Getting-started-with-Julia.ipynb:8"
     ]
    }
   ],
   "source": [
    "# Complex numbers defined by im\n",
    "\n",
    "z = (2+5im)*(2 - 3im)/(1+2im)^2  # Arithmetic Operation along with promotion mechanisms\n",
    "\n",
    "# use complex(a,b) rather than a + b*im, to construct from variables directly without addition, multiplication operations\n",
    "\n",
    "# sqrt(-1)  results in DomainError, use sqrt(-1+0im) instead\n",
    "real(z), imag(z), cos(z), abs(z), con(z), angle(z) # in radians \n",
    "\n"
   ]
  },
  {
   "cell_type": "code",
   "execution_count": 17,
   "metadata": {},
   "outputs": [
    {
     "data": {
      "text/plain": [
       "(Float16(0.0), 1)"
      ]
     },
     "metadata": {},
     "output_type": "display_data"
    }
   ],
   "source": [
    "zero(Float16), one(Int16)  # return literal 0,1 corresponding to specified type"
   ]
  },
  {
   "cell_type": "code",
   "execution_count": 18,
   "metadata": {},
   "outputs": [
    {
     "data": {
      "text/plain": [
       "missing"
      ]
     },
     "metadata": {},
     "output_type": "display_data"
    }
   ],
   "source": [
    "# Special Literals\n",
    "\n",
    "Any  # all objects are of this type\n",
    "Union{}  # subtype of all types, no object can have this type\n",
    "Nothing  # type indicating nothing (absence of a value), a subtype of Any\n",
    "nothing  # only instance of Nothing\n",
    "Missing  # type indicating missing value (a value exists but is unknown), a subtype of Any\n",
    "missing  # only instance of Missing\n",
    "\n",
    "# Additionally #undef indicates an incompletely initialized object element "
   ]
  },
  {
   "cell_type": "code",
   "execution_count": 19,
   "metadata": {},
   "outputs": [
    {
     "data": {
      "text/plain": [
       "('A', 'α')"
      ]
     },
     "metadata": {},
     "output_type": "display_data"
    }
   ],
   "source": [
    "# Characters are in '', not strings\n",
    "\n",
    "Char(65), Char('\\u3b1')  # 65 = A, 945=0x3b1 = α"
   ]
  },
  {
   "cell_type": "code",
   "execution_count": 80,
   "metadata": {},
   "outputs": [
    {
     "name": "stdout",
     "output_type": "stream",
     "text": [
      "Hello,\n",
      " Rojesh"
     ]
    }
   ],
   "source": [
    "# Strings is an immutable array of characters that can be indexed\n",
    "# Escape characters: \"\\\" (\\n,\\t,...) and \"$\" (Interpolation)\n",
    "s1, s2 = \"Hello \", \"World\"\n",
    "\n",
    "# 3 ways for String concatenation\n",
    "s3 = string(s1, s2)\n",
    "s1 * s2   # not s1 + s2, mathematically concatenation in non-commutative  but + is\n",
    "s1^2\n",
    "\n",
    "methodswith(String) # String type have very large number of functions\n",
    "\n",
    "name = \"Rojesh\"\n",
    "print(\"Hello,\\n $(name)\" ) # without print \\ escape is not printed in format"
   ]
  },
  {
   "cell_type": "code",
   "execution_count": 21,
   "metadata": {},
   "outputs": [
    {
     "data": {
      "text/plain": [
       "3×3 Matrix{String}:\n",
       " \"a1\"  \"a2\"  \"a3\"\n",
       " \"b1\"  \"b2\"  \"b3\"\n",
       " \"c1\"  \"c2\"  \"c3\""
      ]
     },
     "metadata": {},
     "output_type": "display_data"
    }
   ],
   "source": [
    "# string function allows concatenation in different ways with arrays under dot operations\n",
    "string.([\"a\",\"b\",\"c\"], [1 2 3])"
   ]
  },
  {
   "cell_type": "markdown",
   "metadata": {
    "slideshow": {
     "slide_type": "slide"
    }
   },
   "source": [
    "## Collection Data Structures"
   ]
  },
  {
   "cell_type": "markdown",
   "metadata": {
    "slideshow": {
     "slide_type": "slide"
    }
   },
   "source": [
    "### Tuples (): Immutable Ordered Collection"
   ]
  },
  {
   "cell_type": "code",
   "execution_count": 22,
   "metadata": {
    "ExecuteTime": {
     "end_time": "2020-05-03T18:13:30.964000+05:45",
     "start_time": "2020-05-03T12:28:30.903Z"
    },
    "slideshow": {
     "slide_type": "subslide"
    }
   },
   "outputs": [
    {
     "data": {
      "text/plain": [
       "\"Tomato\""
      ]
     },
     "metadata": {},
     "output_type": "display_data"
    }
   ],
   "source": [
    "vegetables = (\"Tomato\", \"Spinach\", \"Carrot\")\n",
    "vegetables[1]  # indexing starts from 1"
   ]
  },
  {
   "cell_type": "code",
   "execution_count": 23,
   "metadata": {
    "ExecuteTime": {
     "end_time": "2020-05-03T18:00:29.601000+05:45",
     "start_time": "2020-05-03T12:15:29.598Z"
    },
    "slideshow": {
     "slide_type": "subslide"
    }
   },
   "outputs": [
    {
     "data": {
      "text/plain": [
       "\"Tomato\""
      ]
     },
     "metadata": {},
     "output_type": "display_data"
    }
   ],
   "source": [
    "# Named tuple: each element has a unique name,\n",
    "vegetables = (fruit=\"Tomato\", leaf=\"Spinach\", root=\"Carrot\")\n",
    "vegetables.fruit"
   ]
  },
  {
   "cell_type": "markdown",
   "metadata": {
    "slideshow": {
     "slide_type": "slide"
    },
    "tags": []
   },
   "source": [
    "### Arrays [] : Mutable Ordered Collection\n",
    "\n",
    "Arrays starts from 1 rather than 0."
   ]
  },
  {
   "cell_type": "code",
   "execution_count": 24,
   "metadata": {},
   "outputs": [
    {
     "data": {
      "text/plain": [
       "(Vector{Float64}, (5,))"
      ]
     },
     "metadata": {},
     "output_type": "display_data"
    }
   ],
   "source": [
    "a = Vector{Float64}(undef,5)  # define 5-length undefined varaible with Float Data type, raises UndefRefError if accessed before giving a value\n",
    "typeof(a), size(a)   # type and dimension\n"
   ]
  },
  {
   "cell_type": "code",
   "execution_count": 25,
   "metadata": {},
   "outputs": [
    {
     "data": {
      "text/plain": [
       "((1, 3), (3,), (3,), (3,))"
      ]
     },
     "metadata": {},
     "output_type": "display_data"
    }
   ],
   "source": [
    "rowvector = [1 2 3]       # space separator, type is Matrix{Int64}\n",
    "columnvector = [1, 2, 3]   # , or ; or Enter as separator type is Vector{Int64}\n",
    "\n",
    "a = [1\n",
    "    2\n",
    "    3]\n",
    "\n",
    "size([1 2 3]), size([1,2,3]), size([1;2;3]) ,size(a)"
   ]
  },
  {
   "cell_type": "code",
   "execution_count": 26,
   "metadata": {},
   "outputs": [
    {
     "data": {
      "text/plain": [
       "true"
      ]
     },
     "metadata": {},
     "output_type": "display_data"
    }
   ],
   "source": [
    "1 ∈ a  # 1 in a"
   ]
  },
  {
   "cell_type": "code",
   "execution_count": 27,
   "metadata": {
    "ExecuteTime": {
     "end_time": "2020-05-03T19:03:02.879000+05:45",
     "start_time": "2020-05-03T13:18:02.864Z"
    }
   },
   "outputs": [
    {
     "name": "stdout",
     "output_type": "stream",
     "text": [
      "push!(arr1, 9, 10) = [1, 2, 3, 4, 5, 9, 10]\n"
     ]
    },
    {
     "name": "stdout",
     "output_type": "stream",
     "text": [
      "pop!(arr1) = 10\n",
      "arr1 = [1, 2, 3, 4, 5, 9]\n",
      "append!(arr1, [9]) = [1, 2, 3, 4, 5, 9, 9]\n",
      "pushfirst!(arr1, 5) = [5, 1, 2, 3, 4, 5, 9, 9]\n",
      "popfirst!(arr1) = 5\n",
      "arr1 = [1, 2, 3, 4, 5, 9, 9]\n",
      "popat!(arr1, 3) = 3\n",
      "arr1 = [1, 2, 4, 5, 9, 9]\n",
      "insert!(arr1, 3, 3) = [1, 2, 3, 4, 5, 9, 9]\n",
      "deleteat!(arr1, 6) = [1, 2, 3, 4, 5, 9]\n",
      "splice!(arr1, 3) = 3\n",
      "arr1 = [1, 2, 4, 5, 9]\n",
      "splice!(arr1, 5, -1) = 9\n",
      "arr1 = [1, 2, 4, 5, -1]\n",
      "splice!(arr1, 1, [-1, -2, -3]) = 1\n",
      "arr1 = [-1, -2, -3, 2, 4, 5, -1]\n"
     ]
    }
   ],
   "source": [
    "arr1 = [1, 2,3, 4, 5]\n",
    "\n",
    "@show push!(arr1,9, 10)   # enqueues an item, adds item(s) to the end of the ordered collection\n",
    "@show pop!(arr1)      # dequeue removes last element\n",
    "@show arr1\n",
    "@show append!(arr1, [9])\n",
    "\n",
    "@show pushfirst!(arr1, 5)  # add item(s) to the begginging of collection (known as unshift)\n",
    "@show popfirst!(arr1)      # remove first item from collection   (known as shift)\n",
    "@show arr1\n",
    "@show popat!(arr1, 3)  # remove item from an index and subsequent items are shifted to fill the gap\n",
    "@show arr1\n",
    "@show insert!(arr1, 3, 3)  # insert at an index\n",
    "@show deleteat!(arr1, 6)    # inverse is keepat! keeps at the place and deletes everywhere else\n",
    "\n",
    "@show splice!(arr1, 3)        # remove at index, return the item, shift the subsequent item left \n",
    "@show arr1\n",
    "@show splice!(arr1, 5, -1)    # replacement value is spliced in place of the removed item and the subsequent item\n",
    "@show arr1\n",
    "@show splice!(arr1, 1, [-1,-2,-3]) \n",
    "@show arr1;"
   ]
  },
  {
   "cell_type": "code",
   "execution_count": 28,
   "metadata": {
    "ExecuteTime": {
     "end_time": "2020-05-03T19:05:23.092000+05:45",
     "start_time": "2020-05-03T13:20:23.077Z"
    },
    "slideshow": {
     "slide_type": "subslide"
    }
   },
   "outputs": [
    {
     "data": {
      "text/plain": [
       "3-element Vector{Vector{Int64}}:\n",
       " [1, 2, 3]\n",
       " [4, 5]\n",
       " [6, 7, 8, 9]"
      ]
     },
     "metadata": {},
     "output_type": "display_data"
    }
   ],
   "source": [
    "a = Vector{Float64}(undef,5)        # 1D array\n",
    "b = Matrix{Float64}(undef,4,2)      # 2D array \n",
    "c = Array{Float64}(undef, 4,5,6,7)  # 4D array --> ND array\n",
    "\n",
    "array2d = [[1, 2, 3], [4, 5], [6, 7, 8, 9]]  # not a Matrix but Vector{Vector{Int64}},  access with array2d[2,2]"
   ]
  },
  {
   "cell_type": "code",
   "execution_count": 29,
   "metadata": {
    "ExecuteTime": {
     "end_time": "2020-05-03T19:05:09.708000+05:45",
     "start_time": "2020-05-03T13:20:09.698Z"
    }
   },
   "outputs": [
    {
     "data": {
      "text/plain": [
       "5"
      ]
     },
     "metadata": {},
     "output_type": "display_data"
    }
   ],
   "source": [
    "z = [1 2 3; 4 5 6;  7 8 9]  # In array expression, use ; or enter to separate rows\n",
    "z[2,2]   # define matrix for matrix indexing"
   ]
  },
  {
   "cell_type": "markdown",
   "metadata": {
    "slideshow": {
     "slide_type": "slide"
    }
   },
   "source": [
    "### Dictionary: mutable unordered Associative key-value pair\n",
    "\n",
    "- Unordered can't be indexed, accessed through keys"
   ]
  },
  {
   "cell_type": "code",
   "execution_count": 30,
   "metadata": {},
   "outputs": [
    {
     "data": {
      "text/plain": [
       "true"
      ]
     },
     "metadata": {},
     "output_type": "display_data"
    }
   ],
   "source": [
    "d1 = Dict{String,Integer}(\"a\"=>1, \"b\" => 2)  # can specify types in advance, but not required\n",
    "d2 = symdict = Dict(:x => 1, :y => 3, :z => 6)  # can use symbol, but don't mix. cannot convert object of type symbol to String\n",
    "\n",
    "d1[\"a\"], d2[:x]   # for fail-safe default can use try-catch error of type KeyError\n",
    "get(d1, \"c\", 0)  # fail safe default,\n",
    "d1[\"b\"] = 33     # dict are mutable\n",
    "\n",
    "# Membership\n",
    "\"a\" ∈ keys(d1)  # abstract collection contains pair so check in keys or values\n",
    "haskey(d1,\"x\")   # or use Has Key function  \n",
    "(\"a\" => 1) in d1  # or compare with dict like object"
   ]
  },
  {
   "cell_type": "code",
   "execution_count": 31,
   "metadata": {},
   "outputs": [
    {
     "data": {
      "text/plain": [
       "Dict{Any, Integer} with 4 entries:\n",
       "  \"c\" => 2\n",
       "  :y  => 3\n",
       "  :z  => 6\n",
       "  :x  => 1"
      ]
     },
     "metadata": {},
     "output_type": "display_data"
    }
   ],
   "source": [
    "# data is not in a predifined sequece, always provide the key\n",
    "\n",
    "pop!(d1,\"a\")  \n",
    "push!(d1,\"c\" => 2)\n",
    "delete!(d1, \"b\")\n",
    "\n",
    "merge(d1, d2)"
   ]
  },
  {
   "cell_type": "code",
   "execution_count": 32,
   "metadata": {},
   "outputs": [
    {
     "data": {
      "text/plain": [
       "(6, :z)"
      ]
     },
     "metadata": {},
     "output_type": "display_data"
    }
   ],
   "source": [
    "findmax(d2)   # inverse, findmin, returns value and key"
   ]
  },
  {
   "cell_type": "code",
   "execution_count": 33,
   "metadata": {
    "ExecuteTime": {
     "end_time": "2020-05-03T23:03:04.445000+05:45",
     "start_time": "2020-05-03T17:18:04.383Z"
    },
    "scrolled": true
   },
   "outputs": [
    {
     "data": {
      "text/plain": [
       "1"
      ]
     },
     "metadata": {},
     "output_type": "display_data"
    }
   ],
   "source": [
    "similar(arr1)\n",
    "zero(arr1)\n",
    "\n",
    "zero(10.0)  # zero of type of 10.0\n",
    "one(Int64)  # one of type Int64"
   ]
  },
  {
   "cell_type": "markdown",
   "metadata": {
    "tags": []
   },
   "source": [
    "### Sets: Mutable, Unordered Collection"
   ]
  },
  {
   "cell_type": "code",
   "execution_count": 34,
   "metadata": {},
   "outputs": [
    {
     "data": {
      "text/plain": [
       "Set{String} with 4 elements:\n",
       "  \"yellow\"\n",
       "  \"blue\"\n",
       "  \"green\"\n",
       "  \"red\""
      ]
     },
     "metadata": {},
     "output_type": "display_data"
    }
   ],
   "source": [
    "primes = Set{Int64}()\n",
    "colors = Set([\"red\",\"green\",\"blue\",\"yellow\"])  # automatic typing"
   ]
  },
  {
   "cell_type": "code",
   "execution_count": 35,
   "metadata": {},
   "outputs": [
    {
     "data": {
      "text/plain": [
       "Set{String} with 5 elements:\n",
       "  \"yellow\"\n",
       "  \"blue\"\n",
       "  \"green\"\n",
       "  \"black\"\n",
       "  \"red\""
      ]
     },
     "metadata": {},
     "output_type": "display_data"
    }
   ],
   "source": [
    "push!(colors, \"black\") \n",
    "push!(colors, \"black\") "
   ]
  },
  {
   "cell_type": "code",
   "execution_count": 36,
   "metadata": {},
   "outputs": [
    {
     "data": {
      "text/plain": [
       "true"
      ]
     },
     "metadata": {},
     "output_type": "display_data"
    }
   ],
   "source": [
    "\"green\" ∈ colors  # in,"
   ]
  },
  {
   "cell_type": "code",
   "execution_count": 37,
   "metadata": {},
   "outputs": [],
   "source": [
    "# union(), intersect(), and setdiff()  => can also be applied to dict but return will be pairs rather than Dict\n"
   ]
  },
  {
   "cell_type": "markdown",
   "metadata": {},
   "source": [
    "### Ranges : Lazy interval of numbers"
   ]
  },
  {
   "cell_type": "code",
   "execution_count": 38,
   "metadata": {},
   "outputs": [
    {
     "data": {
      "text/plain": [
       "9-element Vector{Float64}:\n",
       " 1.0\n",
       " 1.5\n",
       " 2.0\n",
       " 2.5\n",
       " 3.0\n",
       " 3.5\n",
       " 4.0\n",
       " 4.5\n",
       " 5.0"
      ]
     },
     "metadata": {},
     "output_type": "display_data"
    }
   ],
   "source": [
    "r = 1:0.5:5\n",
    "arr = collect(r)"
   ]
  },
  {
   "cell_type": "code",
   "execution_count": 39,
   "metadata": {},
   "outputs": [],
   "source": [
    "# findfirst(), findall(), indexin()\n"
   ]
  },
  {
   "cell_type": "markdown",
   "metadata": {},
   "source": [
    "## Control Flows"
   ]
  },
  {
   "cell_type": "code",
   "execution_count": 40,
   "metadata": {},
   "outputs": [
    {
     "data": {
      "text/plain": [
       "9-element Vector{Float64}:\n",
       " 1.0\n",
       " 1.5\n",
       " 0.0\n",
       " 0.0\n",
       " 0.0\n",
       " 0.0\n",
       " 0.0\n",
       " 4.5\n",
       " 5.0"
      ]
     },
     "metadata": {},
     "output_type": "display_data"
    }
   ],
   "source": [
    "arr[2 .<= arr .<= 4] .= 0  # logical indexing with broadcasted assignment\n",
    "arr"
   ]
  },
  {
   "cell_type": "markdown",
   "metadata": {},
   "source": [
    "### Conditionals"
   ]
  },
  {
   "cell_type": "code",
   "execution_count": 41,
   "metadata": {
    "ExecuteTime": {
     "end_time": "2020-05-30T14:38:46.582000+05:45",
     "start_time": "2020-05-30T08:53:46.542Z"
    }
   },
   "outputs": [
    {
     "name": "stdout",
     "output_type": "stream",
     "text": [
      "Buzz\n"
     ]
    }
   ],
   "source": [
    "N=10\n",
    "\n",
    "if (N % 3 == 0) && (N % 5 == 0)\n",
    "    println(\"FizzBuzz\")\n",
    "elseif N % 3 == 0\n",
    "    println(\"Fizz\")\n",
    "elseif N % 5 == 0\n",
    "    println(\"Buzz\")\n",
    "else\n",
    "    println(N)\n",
    "end"
   ]
  },
  {
   "cell_type": "markdown",
   "metadata": {},
   "source": [
    "#### Ternary operators: a ? b : c\n",
    "space required between operators\n",
    "\n",
    "if a\n",
    "    b\n",
    "else\n",
    "    c\n",
    "end"
   ]
  },
  {
   "cell_type": "code",
   "execution_count": 42,
   "metadata": {
    "ExecuteTime": {
     "end_time": "2020-05-30T14:41:17.994000+05:45",
     "start_time": "2020-05-30T08:56:17.728Z"
    }
   },
   "outputs": [
    {
     "data": {
      "text/plain": [
       "10"
      ]
     },
     "metadata": {},
     "output_type": "display_data"
    }
   ],
   "source": [
    "x, y = 10, 3\n",
    "(x > y) ? x : y   # return the larger number"
   ]
  },
  {
   "cell_type": "code",
   "execution_count": 43,
   "metadata": {},
   "outputs": [
    {
     "data": {
      "text/plain": [
       "l (generic function with 1 method)"
      ]
     },
     "metadata": {},
     "output_type": "display_data"
    }
   ],
   "source": [
    "l(a, b) = length(a) > length(b) ? a : b  # return the longer string/ collection"
   ]
  },
  {
   "cell_type": "markdown",
   "metadata": {},
   "source": [
    "#### Short-circuit evaluation (Boolean switching expressions): \n",
    "\n",
    "**a && b**\n",
    "\n",
    "if a is false, return false \\\\\n",
    "if a is true, return b without needing to evaluate to true or false,\n",
    "\n",
    "b is commonly used as an error\n",
    "\n",
    "**a || b**\n",
    "\n",
    "if a is true, return true\n",
    "if a is false, return b"
   ]
  },
  {
   "cell_type": "code",
   "execution_count": 44,
   "metadata": {
    "ExecuteTime": {
     "end_time": "2020-05-30T14:50:00.506000+05:45",
     "start_time": "2020-05-30T09:05:00.468Z"
    }
   },
   "outputs": [
    {
     "ename": "ErrorException",
     "evalue": "x cannot be greater than 0",
     "output_type": "error",
     "traceback": [
      "x cannot be greater than 0\n",
      "\n",
      "Stacktrace:\n",
      " [1] error(s::String)\n",
      "   @ Base .\\error.jl:35\n",
      " [2] top-level scope\n",
      "   @ d:\\Learning\\SciComp.jl\\Intro2Julia\\Getting-started-with-Julia.ipynb:2"
     ]
    }
   ],
   "source": [
    "x=2\n",
    "(x > 0) && error(\"x cannot be greater than 0\")"
   ]
  },
  {
   "cell_type": "code",
   "execution_count": 45,
   "metadata": {},
   "outputs": [
    {
     "name": "stderr",
     "output_type": "stream",
     "text": [
      "┌ Warning: That's odd!\n",
      "└ @ Main d:\\Learning\\SciComp.jl\\Intro2Julia\\Getting-started-with-Julia.ipynb:1\n"
     ]
    }
   ],
   "source": [
    "isodd(1000004) || @warn(\"That's odd!\")"
   ]
  },
  {
   "cell_type": "code",
   "execution_count": 46,
   "metadata": {
    "ExecuteTime": {
     "end_time": "2020-05-30T14:51:50.759000+05:45",
     "start_time": "2020-05-30T09:06:50.755Z"
    }
   },
   "outputs": [
    {
     "data": {
      "text/plain": [
       "true"
      ]
     },
     "metadata": {},
     "output_type": "display_data"
    }
   ],
   "source": [
    "true || println(\"hi\")"
   ]
  },
  {
   "cell_type": "markdown",
   "metadata": {},
   "source": [
    "### While Loops"
   ]
  },
  {
   "cell_type": "code",
   "execution_count": 47,
   "metadata": {},
   "outputs": [
    {
     "name": "stdout",
     "output_type": "stream",
     "text": [
      "0\n",
      "1\n",
      "2\n",
      "3\n",
      "4\n"
     ]
    }
   ],
   "source": [
    "t = 0\n",
    "while t<5\n",
    "    println(t)\n",
    "    t+=1 # t = t + 1\n",
    "end"
   ]
  },
  {
   "cell_type": "markdown",
   "metadata": {},
   "source": [
    "### For Loop"
   ]
  },
  {
   "cell_type": "code",
   "execution_count": 48,
   "metadata": {},
   "outputs": [
    {
     "ename": "ErrorException",
     "evalue": "invalid redefinition of constant l",
     "output_type": "error",
     "traceback": [
      "invalid redefinition of constant l\n",
      "\n",
      "Stacktrace:\n",
      " [1] top-level scope\n",
      "   @ d:\\Learning\\SciComp.jl\\Intro2Julia\\Getting-started-with-Julia.ipynb:4"
     ]
    }
   ],
   "source": [
    "counter = 0\n",
    "k = 0\n",
    "for i in 1:10\n",
    "    k, l = 17 ,18\n",
    "    k += 1  # variables inside a loop has a local scope\n",
    "    global counter  # global keyword to force the variable to be available outside the loop once it's been created\n",
    "    counter += 1\n",
    "end \n",
    "counter\n",
    "k, l  # k is defined but l not defined\n",
    "\n",
    "# best practise: create variable within a function where the loop can access the scope of the function\n",
    "function f()\n",
    "   counter = 0\n",
    "   for i in 1:10\n",
    "      counter += 1\n",
    "   end\n",
    "   return counter\n",
    "end"
   ]
  },
  {
   "cell_type": "code",
   "execution_count": 49,
   "metadata": {
    "ExecuteTime": {
     "end_time": "2020-05-30T14:30:56.749000+05:45",
     "start_time": "2020-05-30T08:45:56.660Z"
    }
   },
   "outputs": [
    {
     "name": "stdout",
     "output_type": "stream",
     "text": [
      "1a\n",
      "1b\n",
      "1c\n",
      "2a\n",
      "2b\n",
      "2c\n",
      "3a\n",
      "3b\n",
      "3c\n"
     ]
    }
   ],
   "source": [
    "# Multiple, Nested for loop at a time,\n",
    "for i in 1:3, j in ['a','b','c']\n",
    "    println(i,j)\n",
    "end"
   ]
  },
  {
   "cell_type": "code",
   "execution_count": 50,
   "metadata": {},
   "outputs": [],
   "source": [
    "A = [1,2,3]\n",
    "for i in eachindex(A)   # more efficient than doing i = 1:length(A)\n",
    "   # do something with i or A[i]\n",
    "end\n"
   ]
  },
  {
   "cell_type": "code",
   "execution_count": 51,
   "metadata": {
    "ExecuteTime": {
     "end_time": "2020-05-30T14:29:36.033000+05:45",
     "start_time": "2020-05-30T08:44:35.988Z"
    }
   },
   "outputs": [
    {
     "data": {
      "text/plain": [
       "10×10 Matrix{Int64}:\n",
       "  2   3   4   5   6   7   8   9  10  11\n",
       "  3   4   5   6   7   8   9  10  11  12\n",
       "  4   5   6   7   8   9  10  11  12  13\n",
       "  5   6   7   8   9  10  11  12  13  14\n",
       "  6   7   8   9  10  11  12  13  14  15\n",
       "  7   8   9  10  11  12  13  14  15  16\n",
       "  8   9  10  11  12  13  14  15  16  17\n",
       "  9  10  11  12  13  14  15  16  17  18\n",
       " 10  11  12  13  14  15  16  17  18  19\n",
       " 11  12  13  14  15  16  17  18  19  20"
      ]
     },
     "metadata": {},
     "output_type": "display_data"
    }
   ],
   "source": [
    "m, n = 10, 10\n",
    "B = fill(0, (m, n))\n",
    "\n",
    "for i in 1:m, j in 1:n\n",
    "    B[i, j] = i + j\n",
    "end\n",
    "B"
   ]
  },
  {
   "cell_type": "code",
   "execution_count": 52,
   "metadata": {},
   "outputs": [
    {
     "name": "stdout",
     "output_type": "stream",
     "text": [
      "11\n"
     ]
    }
   ],
   "source": [
    "z = 11\n",
    "for i in 1:10\n",
    "    m = (@isdefined m ) ? m : 1\n",
    "    m += 1\n",
    "end\n",
    "println(z)"
   ]
  },
  {
   "cell_type": "markdown",
   "metadata": {},
   "source": [
    "### Array Comprehension"
   ]
  },
  {
   "cell_type": "code",
   "execution_count": 53,
   "metadata": {
    "ExecuteTime": {
     "end_time": "2020-05-30T14:31:45.064000+05:45",
     "start_time": "2020-05-30T08:46:44.974Z"
    },
    "scrolled": true
   },
   "outputs": [
    {
     "data": {
      "text/plain": [
       "20×10 Matrix{Int64}:\n",
       "  2   3   4   5   6   7   8   9  10  11\n",
       "  3   4   5   6   7   8   9  10  11  12\n",
       "  4   5   6   7   8   9  10  11  12  13\n",
       "  5   6   7   8   9  10  11  12  13  14\n",
       "  6   7   8   9  10  11  12  13  14  15\n",
       "  7   8   9  10  11  12  13  14  15  16\n",
       "  8   9  10  11  12  13  14  15  16  17\n",
       "  9  10  11  12  13  14  15  16  17  18\n",
       " 10  11  12  13  14  15  16  17  18  19\n",
       " 11  12  13  14  15  16  17  18  19  20\n",
       " 12  13  14  15  16  17  18  19  20  21\n",
       " 13  14  15  16  17  18  19  20  21  22\n",
       " 14  15  16  17  18  19  20  21  22  23\n",
       " 15  16  17  18  19  20  21  22  23  24\n",
       " 16  17  18  19  20  21  22  23  24  25\n",
       " 17  18  19  20  21  22  23  24  25  26\n",
       " 18  19  20  21  22  23  24  25  26  27\n",
       " 19  20  21  22  23  24  25  26  27  28\n",
       " 20  21  22  23  24  25  26  27  28  29\n",
       " 21  22  23  24  25  26  27  28  29  30"
      ]
     },
     "metadata": {},
     "output_type": "display_data"
    }
   ],
   "source": [
    "C = [i + j for i in 1:m, j in 1:n]"
   ]
  },
  {
   "cell_type": "markdown",
   "metadata": {},
   "source": [
    "### Dictionary Comprehension"
   ]
  },
  {
   "cell_type": "code",
   "execution_count": 54,
   "metadata": {
    "ExecuteTime": {
     "end_time": "2020-05-30T14:35:51.449000+05:45",
     "start_time": "2020-05-30T08:50:50.888Z"
    }
   },
   "outputs": [
    {
     "data": {
      "text/plain": [
       "Dict{Tuple{Int64, Int64}, Int64} with 100 entries:\n",
       "  (7, 1)   => 8\n",
       "  (4, 6)   => 10\n",
       "  (9, 3)   => 12\n",
       "  (5, 5)   => 10\n",
       "  (7, 8)   => 15\n",
       "  (9, 4)   => 13\n",
       "  (7, 10)  => 17\n",
       "  (8, 9)   => 17\n",
       "  (7, 2)   => 9\n",
       "  (4, 7)   => 11\n",
       "  (1, 9)   => 10\n",
       "  (2, 1)   => 3\n",
       "  (10, 1)  => 11\n",
       "  (6, 5)   => 11\n",
       "  (2, 8)   => 10\n",
       "  (10, 8)  => 18\n",
       "  (2, 10)  => 12\n",
       "  (10, 10) => 20\n",
       "  (2, 2)   => 4\n",
       "  ⋮        => ⋮"
      ]
     },
     "metadata": {},
     "output_type": "display_data"
    }
   ],
   "source": [
    "Dict(i => i^2 for i in 1:10)\n",
    "\n",
    "Dict((i,j) => i+j for i in 1:10,j in 1:10 )"
   ]
  },
  {
   "cell_type": "markdown",
   "metadata": {},
   "source": [
    "## Functions : first class citizen in Julia\n",
    "\n",
    "Variables have local so type-definition is allowed but not required.\n",
    "\n",
    "By just by \"convention\", functions named followed by `!` are implemented to alter the contents while functions lacking `!` do not alter the content of the arguments. Called Mutating and Non-Mutating Functions. eg sort()\n",
    "\n",
    "Three types of definition"
   ]
  },
  {
   "cell_type": "code",
   "execution_count": 61,
   "metadata": {
    "ExecuteTime": {
     "end_time": "2020-05-30T15:08:54.159000+05:45",
     "start_time": "2020-05-30T09:23:53.892Z"
    },
    "scrolled": true
   },
   "outputs": [
    {
     "data": {
      "text/plain": [
       "(4, Int32)"
      ]
     },
     "metadata": {},
     "output_type": "display_data"
    }
   ],
   "source": [
    "function f(x::Number)::Int32  # takes in any number and return Int32\n",
    "  trunc(real(x+2))  # last value returned by default, return keyword available, return multiple values as well\n",
    "end\n",
    "Z = f(2.5+3*im)\n",
    "Z,typeof(Z)"
   ]
  },
  {
   "cell_type": "code",
   "execution_count": 62,
   "metadata": {},
   "outputs": [
    {
     "name": "stdout",
     "output_type": "stream",
     "text": [
      "normal argument is 1\n",
      "optional argument is 2\n"
     ]
    },
    {
     "data": {
      "text/plain": [
       "\"keyword argument => 999, s => hello\""
      ]
     },
     "metadata": {},
     "output_type": "display_data"
    }
   ],
   "source": [
    "function f(normarg, optionarg=0 ; keyarg = 4, s = \"hello\")  # default arguments are followed by keyword arguments separated by ;\n",
    "  println(\"normal argument is $normarg\")\n",
    "  println(\"optional argument is $optionarg\")\n",
    "  return \"keyword argument => $keyarg, s => $s\"\n",
    "end\n",
    "\n",
    "f(keyarg=999, 1, 2)  # keyword arguments can be anywhere not just at the end"
   ]
  },
  {
   "cell_type": "code",
   "execution_count": 63,
   "metadata": {},
   "outputs": [
    {
     "data": {
      "text/plain": [
       "f (generic function with 4 methods)"
      ]
     },
     "metadata": {},
     "output_type": "display_data"
    }
   ],
   "source": [
    "function f(args...)  # variable number of arguments, ... represent splat operator\n",
    "    println(\"you supplied $(length(args)) arguments\")\n",
    "    for arg in args\n",
    "       println(\" argument \", arg)\n",
    "    end\n",
    "end\n"
   ]
  },
  {
   "cell_type": "code",
   "execution_count": 64,
   "metadata": {},
   "outputs": [
    {
     "ename": "UndefVarError",
     "evalue": "UndefVarError: `test` not defined",
     "output_type": "error",
     "traceback": [
      "UndefVarError: `test` not defined\n",
      "\n",
      "Stacktrace:\n",
      " [1] top-level scope\n",
      "   @ d:\\Learning\\SciComp.jl\\Intro2Julia\\Getting-started-with-Julia.ipynb:7"
     ]
    }
   ],
   "source": [
    "# use of splat operator for splicing the argument\n",
    "\n",
    "function f(x, y)\n",
    "   println(\"x $x y $y\")\n",
    "end\n",
    "\n",
    "test((1,2)...)"
   ]
  },
  {
   "cell_type": "markdown",
   "metadata": {},
   "source": [
    "### Inline functions"
   ]
  },
  {
   "cell_type": "code",
   "execution_count": 65,
   "metadata": {
    "ExecuteTime": {
     "end_time": "2020-05-03T23:15:31.578000+05:45",
     "start_time": "2020-05-03T17:30:31.560Z"
    },
    "scrolled": true
   },
   "outputs": [
    {
     "data": {
      "text/plain": [
       "4"
      ]
     },
     "metadata": {},
     "output_type": "display_data"
    }
   ],
   "source": [
    "f(x,y=0) = 2x+y  # default value available\n",
    "f(1,2)"
   ]
  },
  {
   "cell_type": "code",
   "execution_count": 66,
   "metadata": {
    "ExecuteTime": {
     "start_time": "2020-06-06T09:51:51.142Z"
    }
   },
   "outputs": [
    {
     "data": {
      "text/plain": [
       "8"
      ]
     },
     "metadata": {},
     "output_type": "display_data"
    }
   ],
   "source": [
    "# Julia functions have access to all variables that are visible at the level that the function is created\n",
    "b = 4;\n",
    "f(x) = b*x\n",
    "f(6)"
   ]
  },
  {
   "cell_type": "markdown",
   "metadata": {},
   "source": [
    "### Anonymous Functions\n"
   ]
  },
  {
   "cell_type": "code",
   "execution_count": 67,
   "metadata": {
    "scrolled": true
   },
   "outputs": [
    {
     "data": {
      "text/plain": [
       "3-element Vector{Int64}:\n",
       "  2\n",
       " 14\n",
       " -2"
      ]
     },
     "metadata": {},
     "output_type": "display_data"
    }
   ],
   "source": [
    "map(x -> x^2 + 2x - 1, [1,3,-1])"
   ]
  },
  {
   "cell_type": "code",
   "execution_count": 68,
   "metadata": {},
   "outputs": [
    {
     "data": {
      "text/plain": [
       "3-element Vector{Int64}:\n",
       " 12\n",
       " 15\n",
       " 18"
      ]
     },
     "metadata": {},
     "output_type": "display_data"
    }
   ],
   "source": [
    "map((x,y,z) -> x + y + z, [1,2,3], [4, 5, 6], [7, 8, 9])  #can take multiple or 0 argument ()"
   ]
  },
  {
   "cell_type": "markdown",
   "metadata": {
    "tags": []
   },
   "source": [
    "### Do Blocks: to write longer anonymous function"
   ]
  },
  {
   "cell_type": "code",
   "execution_count": 69,
   "metadata": {},
   "outputs": [
    {
     "data": {
      "text/plain": [
       "1-element Vector{Int64}:\n",
       " 7"
      ]
     },
     "metadata": {},
     "output_type": "display_data"
    }
   ],
   "source": [
    "smallprimes = [1,2,3,5,7,11,13,17,19,23];\n",
    "findall(x -> isequal(13, x), smallprimes)\n",
    "\n",
    "\n",
    "findall(smallprimes) do x\n",
    "     isequal(x, 13) \n",
    "end"
   ]
  },
  {
   "cell_type": "code",
   "execution_count": 70,
   "metadata": {
    "ExecuteTime": {
     "end_time": "2020-05-30T17:29:59.562000+05:45",
     "start_time": "2020-05-30T11:44:59.554Z"
    }
   },
   "outputs": [
    {
     "data": {
      "text/plain": [
       "\"AA\""
      ]
     },
     "metadata": {},
     "output_type": "display_data"
    }
   ],
   "source": [
    "## generally a duck type method is also added as a fallback\n",
    "f1(x) = x ^ 2\n",
    "f1(\"A\")"
   ]
  },
  {
   "cell_type": "markdown",
   "metadata": {},
   "source": [
    "## Modules and Packages\n",
    "\n",
    "Functions grouped into modules organised in a file. Modules grouped into packages organised by a git repository\n",
    "\n",
    "To see all available packages, check out\n",
    "https://pkg.julialang.org/ or https://juliaobserver.com/\n",
    "\n",
    "In addition, we can easily call into python, R, for example, with PyCall or Rcall, also ccall can be used to use shared library functions from C or Fortran.\n",
    "\n",
    "You can also embed julia in these languages with respective wrappers and headers.\n",
    "\n",
    "- `import`: imports module can't access exported functions need to access only with module prefix\n",
    "- `using` : access exported functions, unexported functions need to be accessed with module prefix\n",
    "- `include`: If you want to use code from other files that aren't contained in modules, use the include() function. This evaluates the contents of the file in the context of the current module, searching relative to the path of the source file from which it is called. It's like you just pasted the code in. This is useful for building code from a number of smaller files. "
   ]
  },
  {
   "cell_type": "code",
   "execution_count": 71,
   "metadata": {},
   "outputs": [
    {
     "data": {
      "text/plain": [
       "Main.MyModule"
      ]
     },
     "metadata": {},
     "output_type": "display_data"
    }
   ],
   "source": [
    "module MyModule\n",
    "export myfunction\n",
    "\n",
    "function myfunction()\n",
    "   println(\"this is my function\")\n",
    "end\n",
    "\n",
    "end"
   ]
  },
  {
   "cell_type": "code",
   "execution_count": 72,
   "metadata": {},
   "outputs": [
    {
     "name": "stdout",
     "output_type": "stream",
     "text": [
      "this is my function\n"
     ]
    }
   ],
   "source": [
    "# using MyModule  if stored asa file\n",
    "\n",
    "MyModule.myfunction()"
   ]
  },
  {
   "cell_type": "code",
   "execution_count": 73,
   "metadata": {
    "ExecuteTime": {
     "end_time": "2020-05-31T10:22:07.009000+05:45",
     "start_time": "2020-05-31T04:37:07.002Z"
    }
   },
   "outputs": [
    {
     "ename": "ArgumentError",
     "evalue": "ArgumentError: Package Primes not found in current path.\n- Run `import Pkg; Pkg.add(\"Primes\")` to install the Primes package.",
     "output_type": "error",
     "traceback": [
      "ArgumentError: Package Primes not found in current path.\n",
      "- Run `import Pkg; Pkg.add(\"Primes\")` to install the Primes package.\n",
      "\n",
      "Stacktrace:\n",
      "  [1] macro expansion\n",
      "    @ .\\loading.jl:1630 [inlined]\n",
      "  [2] macro expansion\n",
      "    @ .\\lock.jl:267 [inlined]\n",
      "  [3] require(into::Module, mod::Symbol)\n",
      "    @ Base .\\loading.jl:1611\n",
      "  [4] eval\n",
      "    @ .\\boot.jl:370 [inlined]\n",
      "  [5] include_string(mapexpr::typeof(REPL.softscope), mod::Module, code::String, filename::String)\n",
      "    @ Base .\\loading.jl:1903\n",
      "  [6] #invokelatest#2\n",
      "    @ .\\essentials.jl:816 [inlined]\n",
      "  [7] invokelatest\n",
      "    @ .\\essentials.jl:813 [inlined]\n",
      "  [8] (::VSCodeServer.var\"#198#199\"{VSCodeServer.NotebookRunCellArguments, String})()\n",
      "    @ VSCodeServer c:\\Users\\FM-PC-LT-235\\.vscode\\extensions\\julialang.language-julia-1.47.2\\scripts\\packages\\VSCodeServer\\src\\serve_notebook.jl:19\n",
      "  [9] withpath(f::VSCodeServer.var\"#198#199\"{VSCodeServer.NotebookRunCellArguments, String}, path::String)\n",
      "    @ VSCodeServer c:\\Users\\FM-PC-LT-235\\.vscode\\extensions\\julialang.language-julia-1.47.2\\scripts\\packages\\VSCodeServer\\src\\repl.jl:249\n",
      " [10] notebook_runcell_request(conn::VSCodeServer.JSONRPC.JSONRPCEndpoint{Base.PipeEndpoint, Base.PipeEndpoint}, params::VSCodeServer.NotebookRunCellArguments)\n",
      "    @ VSCodeServer c:\\Users\\FM-PC-LT-235\\.vscode\\extensions\\julialang.language-julia-1.47.2\\scripts\\packages\\VSCodeServer\\src\\serve_notebook.jl:13\n",
      " [11] dispatch_msg(x::VSCodeServer.JSONRPC.JSONRPCEndpoint{Base.PipeEndpoint, Base.PipeEndpoint}, dispatcher::VSCodeServer.JSONRPC.MsgDispatcher, msg::Dict{String, Any})\n",
      "    @ VSCodeServer.JSONRPC c:\\Users\\FM-PC-LT-235\\.vscode\\extensions\\julialang.language-julia-1.47.2\\scripts\\packages\\JSONRPC\\src\\typed.jl:67\n",
      " [12] serve_notebook(pipename::String, outputchannel_logger::Base.CoreLogging.SimpleLogger; crashreporting_pipename::String)\n",
      "    @ VSCodeServer c:\\Users\\FM-PC-LT-235\\.vscode\\extensions\\julialang.language-julia-1.47.2\\scripts\\packages\\VSCodeServer\\src\\serve_notebook.jl:139\n",
      " [13] top-level scope\n",
      "    @ c:\\Users\\FM-PC-LT-235\\.vscode\\extensions\\julialang.language-julia-1.47.2\\scripts\\notebook\\notebook.jl:32"
     ]
    }
   ],
   "source": [
    "# using Pkg; Pkg.add(\"Primes\")\n",
    "using Primes"
   ]
  },
  {
   "cell_type": "code",
   "execution_count": 74,
   "metadata": {
    "ExecuteTime": {
     "end_time": "2020-05-31T10:22:08.166000+05:45",
     "start_time": "2020-05-31T04:37:07.260Z"
    }
   },
   "outputs": [
    {
     "ename": "UndefVarError",
     "evalue": "UndefVarError: `Primes` not defined",
     "output_type": "error",
     "traceback": [
      "UndefVarError: `Primes` not defined\n",
      "\n",
      "Stacktrace:\n",
      " [1] top-level scope\n",
      "   @ d:\\Learning\\SciComp.jl\\Intro2Julia\\Getting-started-with-Julia.ipynb:1"
     ]
    }
   ],
   "source": [
    "names(Primes)"
   ]
  },
  {
   "cell_type": "code",
   "execution_count": 75,
   "metadata": {
    "ExecuteTime": {
     "end_time": "2020-05-31T10:26:04.684000+05:45",
     "start_time": "2020-05-31T04:41:04.662Z"
    }
   },
   "outputs": [
    {
     "ename": "MethodError",
     "evalue": "MethodError: no method matching fieldnames(::Set{Int64})\n\nClosest candidates are:\n  fieldnames(!Matched::Core.TypeofBottom)\n   @ Base reflection.jl:190\n  fieldnames(!Matched::Type{<:Tuple})\n   @ Base reflection.jl:192\n  fieldnames(!Matched::DataType)\n   @ Base reflection.jl:187\n  ...\n",
     "output_type": "error",
     "traceback": [
      "MethodError: no method matching fieldnames(::Set{Int64})\n",
      "\n",
      "Closest candidates are:\n",
      "  fieldnames(!Matched::Core.TypeofBottom)\n",
      "   @ Base reflection.jl:190\n",
      "  fieldnames(!Matched::Type{<:Tuple})\n",
      "   @ Base reflection.jl:192\n",
      "  fieldnames(!Matched::DataType)\n",
      "   @ Base reflection.jl:187\n",
      "  ...\n",
      "\n",
      "\n",
      "Stacktrace:\n",
      " [1] top-level scope\n",
      "   @ d:\\Learning\\SciComp.jl\\Intro2Julia\\Getting-started-with-Julia.ipynb:2"
     ]
    }
   ],
   "source": [
    "## Inspect a type by finding its field\n",
    "fieldnames(primes)  # no method as it has fieldnames not defined for primes"
   ]
  },
  {
   "cell_type": "markdown",
   "metadata": {},
   "source": [
    "## File Handling"
   ]
  },
  {
   "cell_type": "code",
   "execution_count": 76,
   "metadata": {},
   "outputs": [
    {
     "ename": "ErrorException",
     "evalue": "invalid redefinition of constant f",
     "output_type": "error",
     "traceback": [
      "invalid redefinition of constant f\n",
      "\n",
      "Stacktrace:\n",
      " [1] top-level scope\n",
      "   @ d:\\Learning\\SciComp.jl\\Intro2Julia\\Getting-started-with-Julia.ipynb:1"
     ]
    }
   ],
   "source": [
    "f = open(\"readme.md\",\"r\")  # create a file handle, can pass a function as first argument to call on the file as well, \n",
    "s = read(f, String)    # slurp : read the entire content of the file at once\n",
    "lines = readlines(f)  # read each line as an elemnt of array\n",
    "close(f) # close the connection to the file handle\n",
    "# better to perform this operation using a do block\n",
    "\n",
    "totaltime, totallines = open(\"readme.md\") do f\n",
    "  linecounter = 0\n",
    "  timetaken = @elapsed for l in enumerate(eachline(f))  #process the file one line at a time\n",
    "      linecounter += 1\n",
    "  end\n",
    "  (timetaken, linecounter)\n",
    "end\n",
    "\n",
    "# better to use enumerate to count line rather than using linecounter flag"
   ]
  },
  {
   "cell_type": "markdown",
   "metadata": {},
   "source": [
    "### Paths and Directories\n",
    "\n",
    "`pwd()`, `cd(path)`, `readdir(path)`, `abspath(path)`, `joinpath(str, str, ...)`, `isdir(path)`, `splitdir(path)`, `splitdrive(path)`,`dirname(path)`, `basename(path)`\n",
    "\n",
    "File information with `stat(\"pathname\")` \n",
    "\n",
    "interacting with file `cp()`, `mv()`, `rm()`, and `touch()`"
   ]
  },
  {
   "cell_type": "code",
   "execution_count": 77,
   "metadata": {},
   "outputs": [
    {
     "name": "stdout",
     "output_type": "stream",
     "text": [
      "Arrays.ipynb\n",
      "Debugging, Benchmark and Profile.ipynb\n",
      "Functional-Programming.ipynb\n",
      "Getting-started-with-Julia.ipynb\n",
      "Julia-Internals.ipynb\n",
      "Metaprogramming.ipynb\n",
      "SimpleAlgorithms.ipynb\n",
      "TypeSystem-MultipleDispatch.ipynb\n"
     ]
    }
   ],
   "source": [
    "for f in filter(x -> endswith(x, \"ipynb\"), readdir())\n",
    "  println(f)\n",
    "end\n",
    "\n",
    "# make use of regular expression\n",
    "for f in filter(x -> occursin(r\"(?i)\\.jpg|\\.png\", x), readdir())\n",
    "  println(f)\n",
    "end"
   ]
  }
 ],
 "metadata": {
  "kernelspec": {
   "display_name": "Julia 1.9.2",
   "language": "julia",
   "name": "julia-1.9"
  },
  "language_info": {
   "file_extension": ".jl",
   "mimetype": "application/julia",
   "name": "julia",
   "version": "1.9.2"
  },
  "toc": {
   "base_numbering": 1,
   "nav_menu": {},
   "number_sections": true,
   "sideBar": true,
   "skip_h1_title": false,
   "title_cell": "Table of Contents",
   "title_sidebar": "Contents",
   "toc_cell": false,
   "toc_position": {},
   "toc_section_display": true,
   "toc_window_display": false
  },
  "varInspector": {
   "cols": {
    "lenName": 16,
    "lenType": 16,
    "lenVar": 40
   },
   "kernels_config": {
    "python": {
     "delete_cmd_postfix": "",
     "delete_cmd_prefix": "del ",
     "library": "var_list.py",
     "varRefreshCmd": "print(var_dic_list())"
    },
    "r": {
     "delete_cmd_postfix": ") ",
     "delete_cmd_prefix": "rm(",
     "library": "var_list.r",
     "varRefreshCmd": "cat(var_dic_list()) "
    }
   },
   "types_to_exclude": [
    "module",
    "function",
    "builtin_function_or_method",
    "instance",
    "_Feature"
   ],
   "window_display": false
  }
 },
 "nbformat": 4,
 "nbformat_minor": 4
}
