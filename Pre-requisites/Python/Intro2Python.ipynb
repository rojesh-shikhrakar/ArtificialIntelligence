{
 "cells": [
  {
   "cell_type": "markdown",
   "metadata": {},
   "source": [
    "# Python Programming\n",
    "\n",
    "High-level, general-purpose (Web, Desktop, script, AI, Data Science), dynamically typed (type of variables are determined based on its value at runtime, and allowed to change over its lifetime), interpreted language (Source code translated to machine code line by line) developed by Guido van Rossum. \n",
    "\n",
    "When you invoke Python, it compiles code into a platform-independent bytecode (stored as `.pyc` file) that runs on the Python virtual machine. \n",
    "\n",
    "[Python.org Tutorial](https://docs.python.org/3/tutorial/index.html)"
   ]
  },
  {
   "cell_type": "markdown",
   "metadata": {},
   "source": [
    "## Basic Syntax"
   ]
  },
  {
   "cell_type": "code",
   "execution_count": 2,
   "metadata": {},
   "outputs": [
    {
     "name": "stdout",
     "output_type": "stream",
     "text": [
      "hello  Rojesh\n"
     ]
    }
   ],
   "source": [
    "# Python Comments Begins with a #\n",
    "\n",
    "name = \"Rojesh\"           # Variable names are alphanumneric and _\n",
    "print(\"hello \", name)     # function call"
   ]
  },
  {
   "cell_type": "code",
   "execution_count": null,
   "metadata": {},
   "outputs": [],
   "source": [
    "# simultaneous assignment to variables\n",
    "a = b = c = 1.0    \n",
    "a, b, c = 1, 2, 3 "
   ]
  },
  {
   "cell_type": "code",
   "execution_count": 6,
   "metadata": {},
   "outputs": [
    {
     "data": {
      "text/plain": [
       "5.0"
      ]
     },
     "execution_count": 6,
     "metadata": {},
     "output_type": "execute_result"
    }
   ],
   "source": [
    "# Data Types: int, float, str, bool, None\n",
    "\n",
    "a = 5  # int\n",
    "float(a)  # explicit type conversion"
   ]
  },
  {
   "cell_type": "code",
   "execution_count": null,
   "metadata": {},
   "outputs": [],
   "source": [
    "# Basic operators: arithmetic, assignment, comparison.\n",
    "# Arithmetic : +, - , *, / , //, **, %\n",
    "# Logical: and, or , not\n",
    "# Comparison: ==, !=, <, >, <=, >=\n",
    "# operator precedence\n"
   ]
  },
  {
   "cell_type": "code",
   "execution_count": null,
   "metadata": {},
   "outputs": [],
   "source": [
    "# Variable binding\n",
    "a = 123\n",
    "b = a\n",
    "print(id(a) == id(b))"
   ]
  },
  {
   "cell_type": "markdown",
   "metadata": {},
   "source": [
    "## Data Structures"
   ]
  },
  {
   "cell_type": "code",
   "execution_count": 7,
   "metadata": {},
   "outputs": [
    {
     "data": {
      "text/plain": [
       "[[1, 2, 'a', 'b', 1.5, 2], 2, 5, 3, (1, 2), [1, 2, 3, 4, 5]]"
      ]
     },
     "execution_count": 7,
     "metadata": {},
     "output_type": "execute_result"
    }
   ],
   "source": [
    "# List: Sequenced collection of any python objects\n",
    "\n",
    "a = [1,2, \"a\", \"b\", 1.5, False]  \n",
    "a[1]  # 0-indexing to access the items\n",
    "a[-1] = 2  # negative indexing to refer from last item\n",
    "a[1:4]  # slicing\n",
    "len(a)  # length\n",
    "2 in a  # checks membership\n",
    "\n",
    "b = [a, 2,3, (1,2),[1,2,3,4,5]]  # multi-dimensional\n",
    "b.append(5)  # add item to end\n",
    "b.pop()  # or remove and return at index 0\n",
    "b.insert(2,5)\n",
    "b # list support different methods like sort, copy, "
   ]
  },
  {
   "cell_type": "code",
   "execution_count": null,
   "metadata": {},
   "outputs": [],
   "source": [
    "# packing and unpacking"
   ]
  },
  {
   "cell_type": "code",
   "execution_count": 11,
   "metadata": {},
   "outputs": [
    {
     "data": {
      "text/plain": [
       "('a', 'e', 'i', 'o', 'u')"
      ]
     },
     "execution_count": 11,
     "metadata": {},
     "output_type": "execute_result"
    }
   ],
   "source": [
    "# Tuples: Immutable collection of python objects, Fixed-block size are more efficient than list\n",
    "# but the objects inside the tuple might change\n",
    "numbers=(1,2,3,4,5,6,7,8,9,0)\n",
    "vowels = \"a\", \"e\", \"i\", \"o\", \"u\"  # () not always required\n",
    "a, b, c = 1, 2, 3   # tuples unpacking allows multi assignment"
   ]
  },
  {
   "cell_type": "code",
   "execution_count": 11,
   "metadata": {},
   "outputs": [
    {
     "data": {
      "text/plain": [
       "[20, 18, 16, 14, 12]"
      ]
     },
     "execution_count": 11,
     "metadata": {},
     "output_type": "execute_result"
    }
   ],
   "source": [
    "# Range: a lazy python object that returns a sequence of numbers\n",
    "\n",
    "range(1,11,2)\n",
    "range(20, -10, -2)\n",
    "list(range(20,10,-2))"
   ]
  },
  {
   "cell_type": "code",
   "execution_count": 13,
   "metadata": {},
   "outputs": [
    {
     "data": {
      "text/plain": [
       "'Not Available'"
      ]
     },
     "execution_count": 13,
     "metadata": {},
     "output_type": "execute_result"
    }
   ],
   "source": [
    "# Dictionaries: unordered, mutable key-value pairs, that allows fast lookup (hash-tables)\n",
    "# Key requires immutable data type as it needs to be hashable\n",
    "\n",
    "d = {'A':1, 'B':[3,4], 'C':[1,2,3], 'D':\"Apple\"}\n",
    "d2 = dict(A=1,B=2,C=3)  # pass as arguments, or list of tuples [(\"A\",1),(\"B\",2)]\n",
    "\n",
    "d['A'] = 2\n",
    "d2.keys(), d2.values()\n",
    "d2.items() \n",
    "\n",
    "d.get('F',\"Not Available\")  # to prevent error with a default value"
   ]
  },
  {
   "cell_type": "code",
   "execution_count": 21,
   "metadata": {},
   "outputs": [
    {
     "data": {
      "text/plain": [
       "True"
      ]
     },
     "execution_count": 21,
     "metadata": {},
     "output_type": "execute_result"
    }
   ],
   "source": [
    "# Sets: unordered collection of unique immutable python objects (cannot be list or dict or set)\n",
    "\n",
    "A = {1,2,3}\n",
    "B = {3,4,5}\n",
    "A.add(4)\n",
    "A.union(B)\n",
    "A.difference(B)\n",
    "A.intersection(B)\n"
   ]
  },
  {
   "cell_type": "markdown",
   "metadata": {},
   "source": [
    "## Control Structures"
   ]
  },
  {
   "cell_type": "code",
   "execution_count": 26,
   "metadata": {},
   "outputs": [
    {
     "name": "stdout",
     "output_type": "stream",
     "text": [
      "less than or qual to 3\n"
     ]
    }
   ],
   "source": [
    "# Conditional statements: if, elif, else.\n",
    "\n",
    "a = 2\n",
    "if a > 3:\n",
    "  print(\"gt 3\")\n",
    "elif a>=5:\n",
    "  print(\"geq 5\")\n",
    "else:\n",
    "  print(\"less than or qual to 3\")"
   ]
  },
  {
   "cell_type": "code",
   "execution_count": 27,
   "metadata": {},
   "outputs": [
    {
     "data": {
      "text/plain": [
       "20"
      ]
     },
     "execution_count": 27,
     "metadata": {},
     "output_type": "execute_result"
    }
   ],
   "source": [
    "x, y =10,20\n",
    "\n",
    "maxval = x if x > y else y\n",
    "maxval"
   ]
  },
  {
   "cell_type": "code",
   "execution_count": 33,
   "metadata": {},
   "outputs": [
    {
     "name": "stdout",
     "output_type": "stream",
     "text": [
      "Buy  tomato\n",
      "Buy  potato\n",
      "Buy  carrot\n"
     ]
    }
   ],
   "source": [
    "# Loops: for\n",
    "\n",
    "mylist = [\"tomato\", \"potato\", \"carrot\",]\n",
    "\n",
    "for item in mylist:\n",
    "  print(\"Buy \", item)\n"
   ]
  },
  {
   "cell_type": "code",
   "execution_count": 32,
   "metadata": {},
   "outputs": [
    {
     "name": "stdout",
     "output_type": "stream",
     "text": [
      "1\n",
      "2\n",
      "3\n",
      "4\n",
      "5\n",
      "done\n"
     ]
    }
   ],
   "source": [
    "# Loops:  while\n",
    "\n",
    "x = 0 \n",
    "while x<5:\n",
    "  x += 1\n",
    "  print(x)\n",
    "print(\"done\")"
   ]
  },
  {
   "cell_type": "code",
   "execution_count": null,
   "metadata": {},
   "outputs": [],
   "source": [
    "# Loop control statements: break, continue.\n"
   ]
  },
  {
   "cell_type": "markdown",
   "metadata": {},
   "source": [
    "## Functions"
   ]
  },
  {
   "cell_type": "code",
   "execution_count": 37,
   "metadata": {},
   "outputs": [
    {
     "data": {
      "text/plain": [
       "7"
      ]
     },
     "execution_count": 37,
     "metadata": {},
     "output_type": "execute_result"
    }
   ],
   "source": [
    "# Defining a function with parameter and default parameter\n",
    "def add(a,b=5):\n",
    "  c =  a+ b  # the scope of the variables are only within the variable, i.e. variable c is not available outside\n",
    "  return c   # Return value\n",
    "\n",
    "# Calling a function\n",
    "add(3,4)"
   ]
  },
  {
   "cell_type": "markdown",
   "metadata": {},
   "source": [
    "## Object Oriented Programming (OOP)\n",
    "\n",
    "Model concepts, objects and processes as objects that have attributes (data)  and methods (set of functions on the data). \n",
    "Class is a blueprint of an object, an object is an instance of a class\n",
    "\n",
    "Key concepts with OOP\n",
    "\n",
    "1. Encapsulation (Data hiding): restricts access to methods and values to external entity\n",
    "2. Inheritance (Extend functionality of another): child class inherits the variable and function from parent class\n",
    "3. Abstraction (Interface): function  and signature available for users to manipulate the instance\n",
    "4. Polymorphism: different function or classes to have same name and behave differently\n",
    "\n",
    "Unified Modeling Language (UML) notation and diagram are used to standardize the Object-oriented system analysis and design"
   ]
  },
  {
   "cell_type": "code",
   "execution_count": 42,
   "metadata": {},
   "outputs": [
    {
     "data": {
      "text/plain": [
       "20"
      ]
     },
     "execution_count": 42,
     "metadata": {},
     "output_type": "execute_result"
    }
   ],
   "source": [
    "class Rectangle:\n",
    "  def __init__(self, length, breadth):\n",
    "    self.length = length\n",
    "    self.breadth = breadth\n",
    "  def area(self):\n",
    "    self.area = self.length * self.breadth\n",
    "    return self.area\n",
    "  \n",
    "r1 = Rectangle(3,4)\n",
    "r1.length = 5\n",
    "r1.area()"
   ]
  },
  {
   "cell_type": "markdown",
   "metadata": {},
   "source": [
    "## String Manipulation\n",
    "Creating strings, basic operations.\n",
    "String methods: find, replace, split, join.\n",
    "String formatting."
   ]
  },
  {
   "cell_type": "code",
   "execution_count": null,
   "metadata": {},
   "outputs": [],
   "source": []
  },
  {
   "cell_type": "markdown",
   "metadata": {},
   "source": [
    "## File Handling\n",
    "Opening and reading from files.\n",
    "Writing to files.\n",
    "Working with different file formats (like txt, csv)"
   ]
  },
  {
   "cell_type": "code",
   "execution_count": null,
   "metadata": {},
   "outputs": [],
   "source": []
  },
  {
   "cell_type": "markdown",
   "metadata": {},
   "source": [
    "## Error and Exception Handling\n",
    "Basic error types.\n",
    "Try-except blocks.\n",
    "Raising exceptions."
   ]
  },
  {
   "cell_type": "code",
   "execution_count": null,
   "metadata": {},
   "outputs": [],
   "source": []
  },
  {
   "cell_type": "markdown",
   "metadata": {},
   "source": [
    "## Modules and Libraries"
   ]
  },
  {
   "cell_type": "code",
   "execution_count": 4,
   "metadata": {},
   "outputs": [
    {
     "data": {
      "text/plain": [
       "1.0"
      ]
     },
     "execution_count": 4,
     "metadata": {},
     "output_type": "execute_result"
    }
   ],
   "source": [
    "# Standard libaries: math, datetime\n",
    "import math\n",
    "\n",
    "math.sin(math.pi/2)"
   ]
  },
  {
   "cell_type": "code",
   "execution_count": 44,
   "metadata": {},
   "outputs": [
    {
     "data": {
      "text/plain": [
       "array([1, 2, 3, 4])"
      ]
     },
     "execution_count": 44,
     "metadata": {},
     "output_type": "execute_result"
    }
   ],
   "source": [
    "# External Library: pip install numpy, pandas\n",
    "\n",
    "import numpy as np\n",
    "\n",
    "np.array([1,2,3,4])"
   ]
  },
  {
   "cell_type": "code",
   "execution_count": null,
   "metadata": {},
   "outputs": [],
   "source": []
  }
 ],
 "metadata": {
  "kernelspec": {
   "display_name": "Python 3",
   "language": "python",
   "name": "python3"
  },
  "language_info": {
   "codemirror_mode": {
    "name": "ipython",
    "version": 3
   },
   "file_extension": ".py",
   "mimetype": "text/x-python",
   "name": "python",
   "nbconvert_exporter": "python",
   "pygments_lexer": "ipython3",
   "version": "3.11.6"
  }
 },
 "nbformat": 4,
 "nbformat_minor": 2
}
