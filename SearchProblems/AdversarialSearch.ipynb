{
 "cells": [
  {
   "cell_type": "markdown",
   "metadata": {},
   "source": [
    "# Adversarial Search\n",
    "\n",
    "Game Playing\n",
    "Optimal Decisions in Games, \n",
    "Alpha — Beta Pruning, \n",
    "Minimax Algorithm, \n",
    "\n",
    "Tic-Tac —Toe Problem, Stochastic Games"
   ]
  },
  {
   "cell_type": "code",
   "execution_count": null,
   "metadata": {},
   "outputs": [],
   "source": []
  }
 ],
 "metadata": {
  "kernelspec": {
   "display_name": "Python 3",
   "language": "python",
   "name": "python3"
  },
  "language_info": {
   "name": "python",
   "version": "3.12.0"
  }
 },
 "nbformat": 4,
 "nbformat_minor": 2
}
